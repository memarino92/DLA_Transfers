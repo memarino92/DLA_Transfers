{
 "cells": [
  {
   "cell_type": "code",
   "execution_count": 1,
   "metadata": {},
   "outputs": [],
   "source": [
    "import pandas as pd\n",
    "import matplotlib.pyplot as plt"
   ]
  },
  {
   "cell_type": "code",
   "execution_count": 2,
   "metadata": {},
   "outputs": [],
   "source": [
    "disp = pd.read_excel('DISP.xlsx', sheet_name=None, parse_dates=['Ship Date'])"
   ]
  },
  {
   "cell_type": "code",
   "execution_count": 10,
   "metadata": {},
   "outputs": [],
   "source": [
    "def generate_pngs(dict_of_dfs):\n",
    "    for key in dict_of_dfs.keys():\n",
    "        df = dict_of_dfs[key]\n",
    "        df['Total Value'] = df['Quantity'] * df['Acquisition Value']\n",
    "        df['Year'] = df['Ship Date'].dt.year\n",
    "        df = df.loc[:, ('Year', 'Total Value')]\n",
    "        df = df.sort_values('Year')\n",
    "        df = df.groupby('Year').sum()\n",
    "        df['Total Value'] = df['Total Value'] / 1000000\n",
    "        df.plot(kind='bar', figsize=(12,6), legend=False)\n",
    "        plt.title(f\"Value of DLA Transfers by Year ({key} ${str(df['Total Value'].sum())[0:4]}M Total)\")\n",
    "        plt.ylabel('Dollar Value (Millions)')\n",
    "        plt.xlabel('Year')\n",
    "        plt.grid(axis='y')\n",
    "        plt.savefig(f'./states/{key}')\n",
    "        plt.close()"
   ]
  },
  {
   "cell_type": "code",
   "execution_count": 11,
   "metadata": {},
   "outputs": [],
   "source": [
    "generate_pngs(disp)"
   ]
  }
 ],
 "metadata": {
  "kernelspec": {
   "display_name": "Python 3",
   "language": "python",
   "name": "python3"
  },
  "language_info": {
   "codemirror_mode": {
    "name": "ipython",
    "version": 3
   },
   "file_extension": ".py",
   "mimetype": "text/x-python",
   "name": "python",
   "nbconvert_exporter": "python",
   "pygments_lexer": "ipython3",
   "version": "3.8.2"
  }
 },
 "nbformat": 4,
 "nbformat_minor": 4
}
