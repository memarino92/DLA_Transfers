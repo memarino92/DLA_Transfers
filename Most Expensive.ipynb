{
 "cells": [
  {
   "cell_type": "code",
   "execution_count": 16,
   "metadata": {},
   "outputs": [],
   "source": [
    "import matplotlib.pyplot as plt\n",
    "import pandas as pd\n",
    "from pandas.plotting import table"
   ]
  },
  {
   "cell_type": "code",
   "execution_count": 2,
   "metadata": {},
   "outputs": [],
   "source": [
    "disp = pd.read_excel('DISP.xlsx', sheet_name=None, parse_dates=['Ship Date'])"
   ]
  },
  {
   "cell_type": "code",
   "execution_count": 4,
   "metadata": {},
   "outputs": [],
   "source": [
    "df = pd.concat(disp)"
   ]
  },
  {
   "cell_type": "code",
   "execution_count": 17,
   "metadata": {},
   "outputs": [],
   "source": [
    "df = df.sort_values(\"Acquisition Value\", ascending=False)\n",
    "modified_df = df.iloc[:10].loc[:, (\"State\", \"Station Name (LEA)\", \"Item Name\", \"Quantity\", \"Acquisition Value\")]"
   ]
  },
  {
   "cell_type": "code",
   "execution_count": 21,
   "metadata": {},
   "outputs": [],
   "source": [
    "ax = plt.subplot(111, frame_on=False) # no visible frame\n",
    "ax.xaxis.set_visible(False)  # hide the x axis\n",
    "ax.yaxis.set_visible(False)  # hide the y axis\n",
    "\n",
    "table(ax, modified_df)  # where df is your data frame\n",
    "\n",
    "plt.close()"
   ]
  },
  {
   "cell_type": "code",
   "execution_count": 37,
   "metadata": {},
   "outputs": [
    {
     "data": {
      "text/html": [
       "<div>\n",
       "<style scoped>\n",
       "    .dataframe tbody tr th:only-of-type {\n",
       "        vertical-align: middle;\n",
       "    }\n",
       "\n",
       "    .dataframe tbody tr th {\n",
       "        vertical-align: top;\n",
       "    }\n",
       "\n",
       "    .dataframe thead th {\n",
       "        text-align: right;\n",
       "    }\n",
       "</style>\n",
       "<table border=\"1\" class=\"dataframe\">\n",
       "  <thead>\n",
       "    <tr style=\"text-align: right;\">\n",
       "      <th></th>\n",
       "      <th></th>\n",
       "      <th>Acquisition Value</th>\n",
       "      <th>Item Name</th>\n",
       "    </tr>\n",
       "  </thead>\n",
       "  <tbody>\n",
       "    <tr>\n",
       "      <th>Texas</th>\n",
       "      <th>2807</th>\n",
       "      <td>0.00</td>\n",
       "      <td>SHIPPING AND STORAGE CONTAINER,MISCELLANEOUS E...</td>\n",
       "    </tr>\n",
       "    <tr>\n",
       "      <th>Florida</th>\n",
       "      <th>529</th>\n",
       "      <td>0.00</td>\n",
       "      <td>LIFT,MOTOR VEHICLE</td>\n",
       "    </tr>\n",
       "    <tr>\n",
       "      <th>Ohio</th>\n",
       "      <th>7315</th>\n",
       "      <td>0.00</td>\n",
       "      <td>CLEANER,VACUUM,PNEUMATIC</td>\n",
       "    </tr>\n",
       "    <tr>\n",
       "      <th>South Carolina</th>\n",
       "      <th>2629</th>\n",
       "      <td>0.00</td>\n",
       "      <td>SHIPPING AND STORAGE CONTAINER,MISCELLANEOUS E...</td>\n",
       "    </tr>\n",
       "    <tr>\n",
       "      <th>Kentucky</th>\n",
       "      <th>2225</th>\n",
       "      <td>0.00</td>\n",
       "      <td>TRAILER,BOAT MOVING</td>\n",
       "    </tr>\n",
       "    <tr>\n",
       "      <th>...</th>\n",
       "      <th>...</th>\n",
       "      <td>...</td>\n",
       "      <td>...</td>\n",
       "    </tr>\n",
       "    <tr>\n",
       "      <th>Indiana</th>\n",
       "      <th>4866</th>\n",
       "      <td>0.00</td>\n",
       "      <td>CAMERA,WEB</td>\n",
       "    </tr>\n",
       "    <tr>\n",
       "      <th>Virginia</th>\n",
       "      <th>702</th>\n",
       "      <td>0.00</td>\n",
       "      <td>LAWN MOWER</td>\n",
       "    </tr>\n",
       "    <tr>\n",
       "      <th>Washington</th>\n",
       "      <th>1070</th>\n",
       "      <td>0.00</td>\n",
       "      <td>FIRST AID KIT,MOTOR VEHICLE</td>\n",
       "    </tr>\n",
       "    <tr>\n",
       "      <th>Ohio</th>\n",
       "      <th>3563</th>\n",
       "      <td>0.01</td>\n",
       "      <td>SMALL ARMS AMMO CAN</td>\n",
       "    </tr>\n",
       "    <tr>\n",
       "      <th>North Carolina</th>\n",
       "      <th>2000</th>\n",
       "      <td>0.01</td>\n",
       "      <td>ONLY COMPLETE COMBAT/ASSAULT/TACTICAL WHEELED ...</td>\n",
       "    </tr>\n",
       "  </tbody>\n",
       "</table>\n",
       "<p>155 rows × 2 columns</p>\n",
       "</div>"
      ],
      "text/plain": [
       "                     Acquisition Value  \\\n",
       "Texas          2807               0.00   \n",
       "Florida        529                0.00   \n",
       "Ohio           7315               0.00   \n",
       "South Carolina 2629               0.00   \n",
       "Kentucky       2225               0.00   \n",
       "...                                ...   \n",
       "Indiana        4866               0.00   \n",
       "Virginia       702                0.00   \n",
       "Washington     1070               0.00   \n",
       "Ohio           3563               0.01   \n",
       "North Carolina 2000               0.01   \n",
       "\n",
       "                                                             Item Name  \n",
       "Texas          2807  SHIPPING AND STORAGE CONTAINER,MISCELLANEOUS E...  \n",
       "Florida        529                                  LIFT,MOTOR VEHICLE  \n",
       "Ohio           7315                           CLEANER,VACUUM,PNEUMATIC  \n",
       "South Carolina 2629  SHIPPING AND STORAGE CONTAINER,MISCELLANEOUS E...  \n",
       "Kentucky       2225                                TRAILER,BOAT MOVING  \n",
       "...                                                                ...  \n",
       "Indiana        4866                                CAMERA,WEB           \n",
       "Virginia       702                                          LAWN MOWER  \n",
       "Washington     1070                        FIRST AID KIT,MOTOR VEHICLE  \n",
       "Ohio           3563                                SMALL ARMS AMMO CAN  \n",
       "North Carolina 2000  ONLY COMPLETE COMBAT/ASSAULT/TACTICAL WHEELED ...  \n",
       "\n",
       "[155 rows x 2 columns]"
      ]
     },
     "execution_count": 37,
     "metadata": {},
     "output_type": "execute_result"
    }
   ],
   "source": [
    "df.sort_values(\"Acquisition Value\").iloc[:155].loc[:, (\"Acquisition Value\", \"Item Name\")]"
   ]
  }
 ],
 "metadata": {
  "kernelspec": {
   "display_name": "Python 3",
   "language": "python",
   "name": "python3"
  },
  "language_info": {
   "codemirror_mode": {
    "name": "ipython",
    "version": 3
   },
   "file_extension": ".py",
   "mimetype": "text/x-python",
   "name": "python",
   "nbconvert_exporter": "python",
   "pygments_lexer": "ipython3",
   "version": "3.8.2"
  }
 },
 "nbformat": 4,
 "nbformat_minor": 4
}
