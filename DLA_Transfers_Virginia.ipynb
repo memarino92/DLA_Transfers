{
 "cells": [
  {
   "cell_type": "code",
   "execution_count": 2,
   "metadata": {},
   "outputs": [],
   "source": [
    "import pandas as pd\n",
    "import matplotlib.pyplot as plt"
   ]
  },
  {
   "cell_type": "code",
   "execution_count": 3,
   "metadata": {},
   "outputs": [],
   "source": [
    "disp = pd.ExcelFile('DISP.xlsx')"
   ]
  },
  {
   "cell_type": "code",
   "execution_count": 4,
   "metadata": {},
   "outputs": [],
   "source": [
    "va = pd.read_excel(disp, 'Virginia', parse_dates=['Ship Date'])"
   ]
  },
  {
   "cell_type": "code",
   "execution_count": 5,
   "metadata": {},
   "outputs": [
    {
     "data": {
      "text/html": [
       "<div>\n",
       "<style scoped>\n",
       "    .dataframe tbody tr th:only-of-type {\n",
       "        vertical-align: middle;\n",
       "    }\n",
       "\n",
       "    .dataframe tbody tr th {\n",
       "        vertical-align: top;\n",
       "    }\n",
       "\n",
       "    .dataframe thead th {\n",
       "        text-align: right;\n",
       "    }\n",
       "</style>\n",
       "<table border=\"1\" class=\"dataframe\">\n",
       "  <thead>\n",
       "    <tr style=\"text-align: right;\">\n",
       "      <th></th>\n",
       "      <th>State</th>\n",
       "      <th>Station Name (LEA)</th>\n",
       "      <th>NSN</th>\n",
       "      <th>Item Name</th>\n",
       "      <th>Quantity</th>\n",
       "      <th>UI</th>\n",
       "      <th>Acquisition Value</th>\n",
       "      <th>DEMIL Code</th>\n",
       "      <th>DEMIL IC</th>\n",
       "      <th>Ship Date</th>\n",
       "      <th>Station Type</th>\n",
       "    </tr>\n",
       "  </thead>\n",
       "  <tbody>\n",
       "    <tr>\n",
       "      <th>0</th>\n",
       "      <td>VA</td>\n",
       "      <td>ACCOMACK COUNTY SHERIFF DEPT</td>\n",
       "      <td>6720-01-568-2071</td>\n",
       "      <td>CAMERA SYSTEM,RECONNAISSANCE</td>\n",
       "      <td>1</td>\n",
       "      <td>Kit</td>\n",
       "      <td>8450.0</td>\n",
       "      <td>C</td>\n",
       "      <td>1.0</td>\n",
       "      <td>2014-07-24</td>\n",
       "      <td>State</td>\n",
       "    </tr>\n",
       "    <tr>\n",
       "      <th>1</th>\n",
       "      <td>VA</td>\n",
       "      <td>ALBEMARLE  COUNTY POLICE DEPT</td>\n",
       "      <td>5855-01-138-4749</td>\n",
       "      <td>IMAGE INTENSIFIER,NIGHT VISION</td>\n",
       "      <td>1</td>\n",
       "      <td>Each</td>\n",
       "      <td>10747.0</td>\n",
       "      <td>F</td>\n",
       "      <td>1.0</td>\n",
       "      <td>2013-04-11</td>\n",
       "      <td>State</td>\n",
       "    </tr>\n",
       "    <tr>\n",
       "      <th>2</th>\n",
       "      <td>VA</td>\n",
       "      <td>ALBEMARLE  COUNTY POLICE DEPT</td>\n",
       "      <td>1005-00-856-6885</td>\n",
       "      <td>RIFLE,5.56 MILLIMETER</td>\n",
       "      <td>1</td>\n",
       "      <td>Each</td>\n",
       "      <td>120.0</td>\n",
       "      <td>D</td>\n",
       "      <td>1.0</td>\n",
       "      <td>2011-09-28</td>\n",
       "      <td>State</td>\n",
       "    </tr>\n",
       "    <tr>\n",
       "      <th>3</th>\n",
       "      <td>VA</td>\n",
       "      <td>ALBEMARLE  COUNTY POLICE DEPT</td>\n",
       "      <td>1005-00-073-9421</td>\n",
       "      <td>RIFLE,5.56 MILLIMETER</td>\n",
       "      <td>1</td>\n",
       "      <td>Each</td>\n",
       "      <td>499.0</td>\n",
       "      <td>D</td>\n",
       "      <td>1.0</td>\n",
       "      <td>2004-06-29</td>\n",
       "      <td>State</td>\n",
       "    </tr>\n",
       "    <tr>\n",
       "      <th>4</th>\n",
       "      <td>VA</td>\n",
       "      <td>ALBEMARLE  COUNTY POLICE DEPT</td>\n",
       "      <td>1005-00-073-9421</td>\n",
       "      <td>RIFLE,5.56 MILLIMETER</td>\n",
       "      <td>1</td>\n",
       "      <td>Each</td>\n",
       "      <td>499.0</td>\n",
       "      <td>D</td>\n",
       "      <td>1.0</td>\n",
       "      <td>2012-11-26</td>\n",
       "      <td>State</td>\n",
       "    </tr>\n",
       "  </tbody>\n",
       "</table>\n",
       "</div>"
      ],
      "text/plain": [
       "  State             Station Name (LEA)               NSN  \\\n",
       "0    VA   ACCOMACK COUNTY SHERIFF DEPT  6720-01-568-2071   \n",
       "1    VA  ALBEMARLE  COUNTY POLICE DEPT  5855-01-138-4749   \n",
       "2    VA  ALBEMARLE  COUNTY POLICE DEPT  1005-00-856-6885   \n",
       "3    VA  ALBEMARLE  COUNTY POLICE DEPT  1005-00-073-9421   \n",
       "4    VA  ALBEMARLE  COUNTY POLICE DEPT  1005-00-073-9421   \n",
       "\n",
       "                        Item Name  Quantity    UI  Acquisition Value  \\\n",
       "0    CAMERA SYSTEM,RECONNAISSANCE         1   Kit             8450.0   \n",
       "1  IMAGE INTENSIFIER,NIGHT VISION         1  Each            10747.0   \n",
       "2           RIFLE,5.56 MILLIMETER         1  Each              120.0   \n",
       "3           RIFLE,5.56 MILLIMETER         1  Each              499.0   \n",
       "4           RIFLE,5.56 MILLIMETER         1  Each              499.0   \n",
       "\n",
       "  DEMIL Code  DEMIL IC  Ship Date Station Type  \n",
       "0          C       1.0 2014-07-24        State  \n",
       "1          F       1.0 2013-04-11        State  \n",
       "2          D       1.0 2011-09-28        State  \n",
       "3          D       1.0 2004-06-29        State  \n",
       "4          D       1.0 2012-11-26        State  "
      ]
     },
     "execution_count": 5,
     "metadata": {},
     "output_type": "execute_result"
    }
   ],
   "source": [
    "va.head()"
   ]
  },
  {
   "cell_type": "code",
   "execution_count": 6,
   "metadata": {},
   "outputs": [],
   "source": [
    "va_clean = va.loc[:, ('Quantity', 'Acquisition Value', 'Ship Date')]"
   ]
  },
  {
   "cell_type": "code",
   "execution_count": 7,
   "metadata": {},
   "outputs": [],
   "source": [
    "va_clean['Total Value'] = va_clean['Quantity'] * va_clean['Acquisition Value']"
   ]
  },
  {
   "cell_type": "code",
   "execution_count": 8,
   "metadata": {},
   "outputs": [],
   "source": [
    "va_clean['Year'] = va_clean['Ship Date'].dt.year"
   ]
  },
  {
   "cell_type": "code",
   "execution_count": 9,
   "metadata": {},
   "outputs": [],
   "source": [
    "va_clean = va_clean.loc[:, ('Year', 'Total Value')]"
   ]
  },
  {
   "cell_type": "code",
   "execution_count": 10,
   "metadata": {},
   "outputs": [],
   "source": [
    "va_clean = va_clean.sort_values('Year')"
   ]
  },
  {
   "cell_type": "code",
   "execution_count": 29,
   "metadata": {},
   "outputs": [],
   "source": [
    "yearly_totals = va_clean.groupby('Year').sum()\n",
    "yearly_totals['Total Value'] = yearly_totals['Total Value'] / 1000000"
   ]
  },
  {
   "cell_type": "code",
   "execution_count": 34,
   "metadata": {},
   "outputs": [
    {
     "data": {
      "image/png": "[encoded data removed]",
      "text/plain": [
       "<Figure size 864x432 with 1 Axes>"
      ]
     },
     "metadata": {
      "needs_background": "light"
     },
     "output_type": "display_data"
    }
   ],
   "source": [
    "yearly_totals.plot(kind='bar', figsize=(12,6), legend=False)\n",
    "plt.title('Total Value of DLA Transfers by Year (Virginia)')\n",
    "plt.ylabel('Dollar Value (Millions)')\n",
    "plt.xlabel('Year')\n",
    "plt.grid(axis='y')\n",
    "plt.savefig('Virginia_by_year')"
   ]
  },
  {
   "cell_type": "code",
   "execution_count": 33,
   "metadata": {},
   "outputs": [
    {
     "data": {
      "text/plain": [
       "25.10195805"
      ]
     },
     "execution_count": 33,
     "metadata": {},
     "output_type": "execute_result"
    }
   ],
   "source": [
    "yearly_totals['Total Value'].sum()"
   ]
  },
  {
   "cell_type": "code",
   "execution_count": null,
   "metadata": {},
   "outputs": [],
   "source": []
  }
 ],
 "metadata": {
  "kernelspec": {
   "display_name": "Python 3",
   "language": "python",
   "name": "python3"
  },
  "language_info": {
   "codemirror_mode": {
    "name": "ipython",
    "version": 3
   },
   "file_extension": ".py",
   "mimetype": "text/x-python",
   "name": "python",
   "nbconvert_exporter": "python",
   "pygments_lexer": "ipython3",
   "version": "3.8.2"
  }
 },
 "nbformat": 4,
 "nbformat_minor": 4
}
